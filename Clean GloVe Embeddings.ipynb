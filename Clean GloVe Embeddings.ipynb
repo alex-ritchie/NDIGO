{
 "cells": [
  {
   "cell_type": "markdown",
   "metadata": {},
   "source": [
    "# Clean GloVe Embeddings"
   ]
  },
  {
   "cell_type": "code",
   "execution_count": 1,
   "metadata": {},
   "outputs": [],
   "source": [
    "import numpy as np\n",
    "import seaborn as sns\n",
    "import matplotlib.pyplot as plt\n",
    "import sklearn.mixture\n",
    "import scipy\n",
    "import pandas as pd\n",
    "from scipy import spatial\n",
    "from sklearn.manifold import TSNE\n",
    "import sklearn\n",
    "\n",
    "#import code to generate data and do clustNP\n",
    "from sample_distributions import pair_sample_mixture_of_GMs, sample_nonintersecting_moons\n",
    "from clustNP import clustNP, gauss_kernal_mat, gen_ZG, gen_C, clustNP_obj\n",
    "from clustNP_lifted import clustNP_lifted\n",
    "from MoMoG import MoMoG\n",
    "\n",
    "from polyglot.mapping import Embedding"
   ]
  },
  {
   "cell_type": "markdown",
   "metadata": {},
   "source": [
    "## Load and Clean GloVe Embeddings"
   ]
  },
  {
   "cell_type": "code",
   "execution_count": null,
   "metadata": {},
   "outputs": [],
   "source": [
    "from nltk.corpus import stopwords\n",
    "import string\n",
    "\n",
    "stop_words = stopwords.words('english')\n",
    "punct = string.punctuation\n",
    "\n",
    "f1 = open(\"glove.6B.50d.txt\",'r')\n",
    "f2 = open(\"glove_cleaned.txt\", 'w')\n",
    "\n",
    "lines = f1.readlines()\n",
    "new_lines = []\n",
    "for i,line in enumerate(lines):\n",
    "    write = True\n",
    "    word = line.split(' ', maxsplit=1)[0]\n",
    "    if word in stop_words:\n",
    "        write = False\n",
    "    for l in word:\n",
    "        if l in punct:\n",
    "            write = False\n",
    "    if write:\n",
    "        new_lines.append(line)\n",
    "            \n",
    "f2.writelines(new_lines)\n",
    "f1.close()\n",
    "f2.close()\n",
    "            "
   ]
  },
  {
   "cell_type": "code",
   "execution_count": 2,
   "metadata": {},
   "outputs": [],
   "source": [
    "embeddings = Embedding.from_glove(\"glove_cleaned.txt\")"
   ]
  },
  {
   "cell_type": "code",
   "execution_count": null,
   "metadata": {},
   "outputs": [],
   "source": [
    "# vs = embeddings.vectors\n",
    "# X = np.zeros(embeddings.vectors.shape)\n",
    "# words = embeddings.words\n",
    "# nn_words = []\n",
    "# idx = []\n",
    "# pair_ids = []\n",
    "# count = 0\n",
    "# pid = 0\n",
    "# for i,word in enumerate(embeddings):\n",
    "#     nn_word = embeddings.nearest_neighbors(word[0], top_k=1)[0]\n",
    "#     nn = embeddings[nn_word]\n",
    "#     if word not in nn_words:\n",
    "#         nn_words.append(nn_word)\n",
    "#         X[count,:] = vs[i,:]\n",
    "#         count+=1\n",
    "#         X[count,:] = nn\n",
    "#         count+=1\n",
    "#         pair_ids.append(pid)\n",
    "#         pair_ids.append(pid)\n",
    "#         pid+=1\n",
    "#         if np.mod(pid,100)==0:\n",
    "#             print(pid)\n"
   ]
  },
  {
   "cell_type": "code",
   "execution_count": 4,
   "metadata": {},
   "outputs": [],
   "source": [
    "d=10\n",
    "pca = sklearn.decomposition.PCA(n_components=d)\n",
    "X10d = pca.fit_transform(embeddings.vectors)"
   ]
  },
  {
   "cell_type": "code",
   "execution_count": 5,
   "metadata": {},
   "outputs": [],
   "source": [
    "with open('glove_mat_10d.npy', 'wb') as f:\n",
    "    np.save(f, X10d)"
   ]
  },
  {
   "cell_type": "code",
   "execution_count": 12,
   "metadata": {},
   "outputs": [],
   "source": [
    "from nltk.corpus import stopwords\n",
    "import string\n",
    "\n",
    "f = open(\"glove10d.txt\",'w')\n",
    "lines = []\n",
    "for i,word in enumerate(embeddings.words):\n",
    "    line = \"%s %.5f %.5f %.5f %.5f %.5f %.5f %.5f %.5f %.5f %.5f\\n\" % (word, X10d[i,0], X10d[i,1], X10d[i,2], \n",
    "                                                                     X10d[i,3], X10d[i,4], X10d[i,5], X10d[i,6], \n",
    "                                                                     X10d[i,7], X10d[i,8], X10d[i,9])\n",
    "    lines.append(line)\n",
    "            \n",
    "f.writelines(lines)\n",
    "f.close()"
   ]
  },
  {
   "cell_type": "code",
   "execution_count": 13,
   "metadata": {},
   "outputs": [],
   "source": [
    "embeddings10d = Embedding.from_glove(\"glove10d.txt\")"
   ]
  },
  {
   "cell_type": "code",
   "execution_count": 14,
   "metadata": {},
   "outputs": [
    {
     "data": {
      "text/plain": [
       "array([ 4.30932,  2.40108,  0.10624, -0.02072,  1.02136, -0.79158,\n",
       "        0.71285, -2.09451, -0.36572, -0.61986], dtype=float32)"
      ]
     },
     "execution_count": 14,
     "metadata": {},
     "output_type": "execute_result"
    }
   ],
   "source": [
    "embeddings10d[\"white\"]"
   ]
  },
  {
   "cell_type": "code",
   "execution_count": null,
   "metadata": {},
   "outputs": [],
   "source": []
  }
 ],
 "metadata": {
  "kernelspec": {
   "display_name": "Python 3",
   "language": "python",
   "name": "python3"
  },
  "language_info": {
   "codemirror_mode": {
    "name": "ipython",
    "version": 3
   },
   "file_extension": ".py",
   "mimetype": "text/x-python",
   "name": "python",
   "nbconvert_exporter": "python",
   "pygments_lexer": "ipython3",
   "version": "3.7.1"
  }
 },
 "nbformat": 4,
 "nbformat_minor": 2
}
