{
 "cells": [
  {
   "cell_type": "markdown",
   "metadata": {},
   "source": [
    "# Mixture modeling with GloVe Embeddings"
   ]
  },
  {
   "cell_type": "code",
   "execution_count": 1,
   "metadata": {},
   "outputs": [],
   "source": [
    "import numpy as np\n",
    "import seaborn as sns\n",
    "import matplotlib.pyplot as plt\n",
    "import sklearn.mixture\n",
    "import scipy\n",
    "import pandas as pd\n",
    "from scipy import spatial\n",
    "from sklearn.manifold import TSNE\n",
    "import sklearn\n",
    "\n",
    "#import code to generate data and do clustNP\n",
    "from clustNP import clustNP, gauss_kernal_mat, gen_ZG, gen_C, gen_Ci, clustNP_obj, proj_simplex\n",
    "\n",
    "from polyglot.mapping import Embedding"
   ]
  },
  {
   "cell_type": "markdown",
   "metadata": {},
   "source": [
    "### Load 10d Embeddings"
   ]
  },
  {
   "cell_type": "code",
   "execution_count": 2,
   "metadata": {},
   "outputs": [],
   "source": [
    "embeddings = Embedding.from_glove(\"glove10d.txt\")"
   ]
  },
  {
   "cell_type": "markdown",
   "metadata": {},
   "source": [
    "### Load Twitter Russian Trolls (run commented cells to recreate data matrix if desired)"
   ]
  },
  {
   "cell_type": "code",
   "execution_count": 4,
   "metadata": {},
   "outputs": [],
   "source": [
    "# import pandas as pd\n",
    "# import glob\n",
    "\n",
    "# path = r'russian-troll-tweets-master' # use your path\n",
    "# all_files = glob.glob(path + \"/*.csv\")\n",
    "\n",
    "# li = []\n",
    "\n",
    "# for filename in all_files:\n",
    "#     df = pd.read_csv(filename, index_col=None, header=0)\n",
    "#     li.append(df)\n",
    "\n",
    "# frame = pd.concat(li, axis=0, ignore_index=True)\n",
    "# frame.to_pickle('tweets_frame.pkl')\n",
    "\n",
    "# to load\n",
    "# frame = pd.read_pickle('tweets_frame.pkl')"
   ]
  },
  {
   "cell_type": "code",
   "execution_count": 5,
   "metadata": {
    "scrolled": true
   },
   "outputs": [
    {
     "name": "stderr",
     "output_type": "stream",
     "text": [
      "/anaconda3/lib/python3.7/site-packages/ipykernel_launcher.py:12: SettingWithCopyWarning: \n",
      "A value is trying to be set on a copy of a slice from a DataFrame.\n",
      "Try using .loc[row_indexer,col_indexer] = value instead\n",
      "\n",
      "See the caveats in the documentation: https://pandas.pydata.org/pandas-docs/stable/user_guide/indexing.html#returning-a-view-versus-a-copy\n",
      "  if sys.path[0] == '':\n"
     ]
    },
    {
     "data": {
      "text/plain": [
       "(878878, 21)"
      ]
     },
     "execution_count": 5,
     "metadata": {},
     "output_type": "execute_result"
    }
   ],
   "source": [
    "# # tokenize, lemmatize\n",
    "# import nltk\n",
    "\n",
    "# w_tokenizer = nltk.tokenize.WhitespaceTokenizer()\n",
    "# lemmatizer = nltk.stem.WordNetLemmatizer()\n",
    "\n",
    "# def lemmatize_text(text):\n",
    "#     return [lemmatizer.lemmatize(w) for w in w_tokenizer.tokenize(text)]\n",
    "\n",
    "# df_en = frame.loc[frame['language'] == 'English']\n",
    "# df_16 = df_en[df_en['publish_date'].str.contains('2016')]\n",
    "# df_16['content']=df_16.content.apply(lemmatize_text)\n",
    "# df_16_content = df_16['content']\n",
    "# df_16.shape #878878"
   ]
  },
  {
   "cell_type": "code",
   "execution_count": 7,
   "metadata": {},
   "outputs": [
    {
     "data": {
      "text/plain": [
       "31         [Homeowner, chase, suspected, prowler, off, hi...\n",
       "32         [CHP:, 480, reported, collision, from, midnigh...\n",
       "33         [Coroner, identifies, 19-year-old, woman, kill...\n",
       "34         [Report:, Strong, possibility, defensive, coor...\n",
       "35         [Taliban, kill, 20, in, attack, at, northwest,...\n",
       "                                 ...                        \n",
       "2938808    [That's, how, Russian, Police, deal, with, Imm...\n",
       "2939010    [Swedish, doctor, drugged, woman, and, locked,...\n",
       "2939014    [Arctic, infantry, test, drive, new, Ruslan, A...\n",
       "2943671    [Thailand's, crown, prince, Maha, Vajiralongko...\n",
       "2946181    [Hillary, Clinton, bark, like, a, dog, to, mak...\n",
       "Name: content, Length: 878878, dtype: object"
      ]
     },
     "execution_count": 7,
     "metadata": {},
     "output_type": "execute_result"
    }
   ],
   "source": [
    "# df_16_content"
   ]
  },
  {
   "cell_type": "code",
   "execution_count": null,
   "metadata": {},
   "outputs": [],
   "source": [
    "# # pair words\n",
    "# import random\n",
    "# import string\n",
    "# np.random.seed(0)\n",
    "# punct = string.punctuation\n",
    "\n",
    "# max_pairs = 5000000\n",
    "# X = np.zeros((max_pairs,10)) #take 5mil word pairs max\n",
    "# vs = np.zeros((280,10)) #preallocate max tweet char length array\n",
    "# X_words = [] #store the words for each entry of X\n",
    "# idx=0\n",
    "# for j,twt in enumerate(df_16_content):\n",
    "#     if np.mod(j,1000) == 0:\n",
    "#         print(j)\n",
    "#     l = len(twt)\n",
    "#     random.shuffle(twt)\n",
    "#     for i,word in enumerate(twt):\n",
    "#         try:\n",
    "#             word = word.strip(punct)\n",
    "#             word = word.strip('#')\n",
    "#             v = embeddings[word]\n",
    "#             vs[i]  = v\n",
    "#             X_words.append(word)\n",
    "#             if np.sum(np.abs(v)) == 0:\n",
    "#                 print(v)\n",
    "#         except:\n",
    "#             l-=1\n",
    "#     l-=np.mod(l,2)\n",
    "#     #stacking an even number of vectors from each tweet, can assign pairs ids after the fact\n",
    "#     if l>0 and idx+l <= max_pairs:\n",
    "#         X[idx:idx+l,:] = vs[:l]\n",
    "#         idx+=l\n",
    "#     elif l <= 0:\n",
    "#         pass\n",
    "#     else:\n",
    "#         print(\"done\")\n",
    "#         break\n",
    "\n"
   ]
  },
  {
   "cell_type": "code",
   "execution_count": 11,
   "metadata": {},
   "outputs": [],
   "source": [
    "##len(X_words) #3829919\n",
    "##X_words = X_words[:-1] \n",
    "#print word pairs to a txt file to use with other methods\n",
    "# lines = []\n",
    "# for i in range(0,len(X_words)-1,2):\n",
    "#     words = '%s %s\\n'%(X_words[i], X_words[i+1])\n",
    "#     lines.append(words)\n"
   ]
  },
  {
   "cell_type": "code",
   "execution_count": 12,
   "metadata": {},
   "outputs": [],
   "source": [
    "# f = open(\"troll-corpus.txt\", \"w\")\n",
    "# f.writelines(lines)\n",
    "# f.close()\n",
    "\n",
    "\n",
    "# \"\"\"\n",
    "# to run java code:\n",
    "\n",
    "# GPU-DMM: $ java -jar jar/STTM.jar -model GPUDMM -corpus dataset/troll-corpus.txt -vectors ../glove10d.txt -ntopics 10 -niters 1000 -name 'gpudmm'\n",
    "\n",
    "# LF-DMM: $ java -jar jar/STTM.jar -model LFDMM -corpus dataset/troll-corpus.txt -vectors ../glove10d.txt -ntopics 10 -niters 1000 -name 'lfdmm'\n",
    "\n",
    "# \"\"\""
   ]
  },
  {
   "cell_type": "code",
   "execution_count": 16,
   "metadata": {},
   "outputs": [
    {
     "name": "stdout",
     "output_type": "stream",
     "text": [
      "8\n"
     ]
    }
   ],
   "source": [
    "# # # remove extra rows\n",
    "# # pair_ids = np.array([i for i in range(X.shape[0]//2) for j in range(2)])\n",
    "# num_unfilled = np.sum(np.sum(np.abs(X),axis=1)==0) #1577844\n",
    "# # X = X[:(max_pairs-num_unfilled),:]\n",
    "# print(num_unfilled)"
   ]
  },
  {
   "cell_type": "code",
   "execution_count": 19,
   "metadata": {},
   "outputs": [
    {
     "data": {
      "text/plain": [
       "(array([], dtype=int64),)"
      ]
     },
     "execution_count": 19,
     "metadata": {},
     "output_type": "execute_result"
    }
   ],
   "source": [
    "# # remove any cells that were filled with zeros\n",
    "#np.where(np.sum(np.abs(X),axis=1)==0) # (array([ 3,  4,  5,  9, 10, 20, 26, 32]),)\n",
    "# X = np.delete(X,[2,3,4,5,8,9,10,11,20,21,26,27,32,33],axis=0)\n"
   ]
  },
  {
   "cell_type": "code",
   "execution_count": 23,
   "metadata": {},
   "outputs": [
    {
     "name": "stdout",
     "output_type": "stream",
     "text": [
      "(3422142, 10)\n"
     ]
    }
   ],
   "source": [
    "# # # save\n",
    "# print(X.shape) #(3422142, 10)\n",
    "# with open('tweets_preprocessed_lemmatized.npy', 'wb') as f:\n",
    "#     np.save(f, X)"
   ]
  },
  {
   "cell_type": "markdown",
   "metadata": {},
   "source": [
    "# solve quartic problem"
   ]
  },
  {
   "cell_type": "markdown",
   "metadata": {},
   "source": [
    "### Original Param Init"
   ]
  },
  {
   "cell_type": "code",
   "execution_count": 48,
   "metadata": {},
   "outputs": [],
   "source": [
    "X = np.load('tweets_preprocessed_lemmatized.npy')\n",
    "pair_ids = np.array([i for i in range(X.shape[0]//2) for j in range(2)])"
   ]
  },
  {
   "cell_type": "code",
   "execution_count": 49,
   "metadata": {},
   "outputs": [],
   "source": [
    "import pandas as pd\n",
    "import matplotlib.pyplot as plt\n",
    "import seaborn as sns\n",
    "from sklearn.metrics import confusion_matrix\n",
    "sns.set(style=\"darkgrid\")\n",
    "\n",
    "# params\n",
    "R = 200\n",
    "best_ISE = 1e10;\n",
    "d = X.shape[1]\n",
    "M = 10\n",
    "sd = np.mean(np.std(X, axis=0))\n",
    "sigma = sd*(R)**(-1/(d+4)) #scott's rule of thumb\n",
    "pair_ids = np.array([i for i in range(X.shape[0]//2) for j in range(2)])"
   ]
  },
  {
   "cell_type": "code",
   "execution_count": 50,
   "metadata": {},
   "outputs": [
    {
     "name": "stdout",
     "output_type": "stream",
     "text": [
      "0.4484476088905496 200 0.011164331375294725\n"
     ]
    }
   ],
   "source": [
    "#use random batch of 10000 pairs to initialize G,Z\n",
    "\n",
    "#np.random.seed(0)\n",
    "#np.random.seed(1)\n",
    "#np.random.seed(2)\n",
    "np.random.seed(3)\n",
    "\n",
    "\n",
    "n_init = 10000\n",
    "#n_init = X.shape[0]//2\n",
    "\n",
    "rand_pairs = np.random.permutation(pair_ids.shape[0]//2)[:n_init]\n",
    "idxs = 2*(np.maximum(rand_pairs-1, 0))\n",
    "temp = np.append(np.insert(idxs, slice(1, None), 0), 0)\n",
    "temp[1::2] = idxs+1\n",
    "idxs = temp\n",
    "Xmini = X[idxs,:]\n",
    "rand_pair_ids = [pid for j in range(2) for pid in rand_pairs]\n",
    "Z, G = gen_ZG(Xmini, R, sigma)\n",
    "\n",
    "#Generate initialization\n",
    "C = gen_C(Xmini, rand_pair_ids, Z, R, sigma)\n",
    "# C = np.sum(Ci, axis=2)\n",
    "# Cinv = np.linalg.inv(C)\n",
    "# A, w, _ = scipy.sparse.linalg.svds(G@Cinv@G, k=M)\n",
    "\n",
    "w, A = scipy.sparse.linalg.eigs(G, k=M)\n",
    "w = np.real(w)\n",
    "A = np.real(A)\n",
    "for i in range(M):\n",
    "    A[:,i] = proj_simplex(A[:,i])\n",
    "#w = w/np.sum(w)\n",
    "w = np.ones(M,) / M\n",
    "A = A / np.sum(A,axis=0)\n",
    "f, _ = clustNP_obj(A, w, G, C, n_init, 0)\n",
    "\n",
    "best_ISE = f\n",
    "best_sigma = sigma\n",
    "best_R = R\n",
    "best_w = w\n",
    "best_Z = Z\n",
    "best_C = C\n",
    "best_G = G\n",
    "best_A = A\n",
    "print(best_sigma, best_R, best_ISE)"
   ]
  },
  {
   "cell_type": "code",
   "execution_count": 51,
   "metadata": {},
   "outputs": [],
   "source": [
    "# with open('tweets_best_R_other_4.npy', 'wb') as f:\n",
    "#     np.save(f, best_R)\n",
    "# with open('tweets_best_w_other_4.npy', 'wb') as f:\n",
    "#     np.save(f, best_w)\n",
    "# with open('tweets_best_Z_other_4.npy', 'wb') as f:\n",
    "#     np.save(f, best_Z)\n",
    "# with open('tweets_best_G_other_4.npy', 'wb') as f:\n",
    "#     np.save(f, best_G)\n",
    "# with open('tweets_best_A_other_4.npy', 'wb') as f:\n",
    "#     np.save(f, best_A)\n",
    "# with open('tweets_best_sigma_other_4.npy', 'wb') as f:\n",
    "#     np.save(f, best_sigma)"
   ]
  },
  {
   "cell_type": "markdown",
   "metadata": {},
   "source": [
    "### Optimize"
   ]
  },
  {
   "cell_type": "code",
   "execution_count": 54,
   "metadata": {},
   "outputs": [
    {
     "name": "stdout",
     "output_type": "stream",
     "text": [
      "0.011164331375294725\n",
      "processed observations this epoch:  512000\n",
      "processed observations this epoch:  1024000\n",
      "processed observations this epoch:  1536000\n",
      "0.0007505402955714377\n",
      "processed observations this epoch:  512000\n",
      "processed observations this epoch:  1024000\n",
      "processed observations this epoch:  1536000\n",
      "0.00035729562295728324\n",
      "processed observations this epoch:  512000\n",
      "processed observations this epoch:  1024000\n",
      "processed observations this epoch:  1536000\n",
      "0.00024231906307037546\n",
      "processed observations this epoch:  512000\n",
      "processed observations this epoch:  1024000\n",
      "processed observations this epoch:  1536000\n",
      "0.00019101200687006027\n",
      "processed observations this epoch:  512000\n",
      "processed observations this epoch:  1024000\n",
      "processed observations this epoch:  1536000\n",
      "0.0001626968177272281\n",
      "processed observations this epoch:  512000\n",
      "processed observations this epoch:  1024000\n",
      "processed observations this epoch:  1536000\n",
      "0.00014542758589500737\n",
      "processed observations this epoch:  512000\n",
      "processed observations this epoch:  1024000\n",
      "processed observations this epoch:  1536000\n",
      "0.00013432616178340025\n",
      "processed observations this epoch:  512000\n",
      "processed observations this epoch:  1024000\n",
      "processed observations this epoch:  1536000\n",
      "0.00012652374565616032\n",
      "processed observations this epoch:  512000\n",
      "processed observations this epoch:  1024000\n",
      "processed observations this epoch:  1536000\n",
      "0.00012085764671800228\n",
      "processed observations this epoch:  512000\n",
      "processed observations this epoch:  1024000\n",
      "processed observations this epoch:  1536000\n",
      "0.00011658793117417343\n"
     ]
    },
    {
     "data": {
      "text/plain": [
       "0.00011658793117417343"
      ]
     },
     "execution_count": 54,
     "metadata": {},
     "output_type": "execute_result"
    }
   ],
   "source": [
    "sigma = best_sigma\n",
    "w0 = best_w\n",
    "R = best_R\n",
    "#w0 = np.array([0.5, 0.5])\n",
    "Z = best_Z\n",
    "G = best_G\n",
    "A0 = best_A\n",
    "#A0 = np.random.rand(R,M)\n",
    "#A0 = A0 / np.sum(A0, axis=0)\n",
    "ss=0.03\n",
    "\n",
    "print(best_ISE)\n",
    "# #solve\n",
    "f_star, A_star, w_star, Z, n_iter = clustNP(X, pair_ids, A0, w0, Z, G, stepsize=ss, ss_decr=1, \n",
    "                                            epoch_decr = 40, method='psgd', max_iter=10, f_tol=1e-16, \n",
    "                                            grad_tol=1e-8, R=R, sigma=sigma, batch_size=1024, backtrack=False,\n",
    "                                            decay=0.000001, momentum=0.2, large=True)\n",
    "# f_star, A_star, w_star, Z, n_iter = clustNP(X, pair_ids, A_star, w_star, Z, G, stepsize=ss, ss_decr=1, \n",
    "#                                             epoch_decr = 40, method='psgd', max_iter=30, f_tol=1e-16, \n",
    "#                                             grad_tol=1e-8, R=R, sigma=sigma, batch_size=1024, backtrack=False,\n",
    "#                                             decay=0.00001, momentum=0.2, large=True)\n",
    "f_star"
   ]
  },
  {
   "cell_type": "code",
   "execution_count": 55,
   "metadata": {},
   "outputs": [],
   "source": [
    "# with open('tweets_A_star_other_4.npy', 'wb') as f:\n",
    "#     np.save(f, A_star)\n",
    "# with open('tweets_w_star_other_4.npy', 'wb') as f:\n",
    "#     np.save(f, w_star)\n",
    "# with open('tweets_f_star_other_4.npy', 'wb') as f:\n",
    "#     np.save(f, f_star)"
   ]
  },
  {
   "cell_type": "code",
   "execution_count": null,
   "metadata": {},
   "outputs": [],
   "source": [
    "# A_star = np.load('tweets_A_star_other.npy')\n",
    "# w_star = np.load('tweets_w_star_other.npy')\n",
    "# A_star.shape"
   ]
  },
  {
   "cell_type": "code",
   "execution_count": null,
   "metadata": {},
   "outputs": [],
   "source": [
    "#make predictions\n",
    "M=10\n",
    "phats_train = np.zeros((X.shape[0],M))\n",
    "for i in range(X.shape[0]):\n",
    "    if np.mod(i, 10000) == 0:\n",
    "        print(i)\n",
    "    kx = gauss_kernal_mat(X[i, np.newaxis], best_Z, best_sigma)\n",
    "    phats_train[i, :] = kx@A_star\n",
    "ltr = np.zeros((X.shape[0], M))\n",
    "ltr = w_star.T*phats_train\n",
    "# decisions_train = np.argmax(ltr, 1)"
   ]
  },
  {
   "cell_type": "code",
   "execution_count": 57,
   "metadata": {},
   "outputs": [
    {
     "name": "stdout",
     "output_type": "stream",
     "text": [
      "topic 0 : ['coming', 'give', 'making', 'giving', 'bring', 'turn', 'start', 'come', 'still', 'yet', 'help', 'turned', 'let', 'better', 'make', 'despite', 'right', 'likely', 'ever', 'instead']\n",
      "topic 1 : ['notably', 'aftermath', 'besides', 'preparing', 'brings', 'chosen', 'managed', 'prompted', 'threatened', 'deny', 'disappointment', 'supporting', 'approve', 'brief', 'eve', 'prompting', 'starts', 'trained', 'news', 'prepare']\n",
      "topic 2 : ['really', 'find', 'thing', 'something', 'anything', 'lot', 'always', 'looking', 'life', 'things', 'nothing', 'news', 'maybe', 'might', 'wa', 'look', 'good', 'ha', 'people', 'appear']\n",
      "topic 3 : ['terms', 'become', 'impact', 'strength', 'huge', 'particular', 'growth', 'focus', 'addition', 'ensure', 'focused', 'unless', 'needs', 'provide', 'participants', 'lack', 'special', 'events', 'must', 'legal']\n",
      "topic 4 : ['inspiring', 'preceded', 'splendid', 'remind', 'devise', 'importantly', 'arguably', 'happiness', 'emergence', 'compelled', 'implication', 'tentatively', 'enforced', 'anticipating', 'elevator', 'rousing', 'impending', 'realization', 'dictated', 'contradiction']\n",
      "topic 5 : ['say', 'want', 'good', 'know', 'ask', 'think', 'message', 'wo', 'watch', 'calls', 'release', 'asking', 'let', 'critics', 'believe', 'contact', 'calling', 'announce', 'latest', 'expect']\n",
      "topic 6 : ['campaign', 'plan', 'included', 'changed', 'proposal', 'takes', 'real', 'honor', 'works', 'fight', 'paid', 'seeing', 'example', 'action', 'asking', 'appeared', 'offered', 'saw', 'gets', 'happen']\n",
      "topic 7 : ['offer', 'wait', 'sell', 'book', 'drop', 'buy', 'offering', 'gun', 'wrong', 'easy', 'follow', 'wall', 'guns', 'cash', 'lay', 'falling', 'share', 'money', 'gone', 'conspiracy']\n",
      "topic 8 : ['accurate', 'indicating', 'say', 'day', 'steady', 'perceived', 'precisely', 'frequent', 'fundraising', 'declining', 'lengthy', 'year', 'viewed', 'consequences', 'weakness', 'priorities', 'deemed', 'month', 'define', 'motivation']\n",
      "topic 9 : ['record', 'holding', 'sending', 'back', 'counter', 'send', 'ready', 'accept', 'boost', 'push', 'free', 'strike', 'agree', 'early', 'news', 'years', 'take', 'lose', 'away', 'upcoming']\n"
     ]
    }
   ],
   "source": [
    "# predicting individual training words\n",
    "X_unique, idx_unique = np.unique(X, axis=0, return_index=True)\n",
    "ltr_unique = ltr[idx_unique,:]\n",
    "a = 20\n",
    "top_words_topics = []\n",
    "for m in range(M):\n",
    "    top_a_idx = ltr_unique[:,m].argsort()[-a:][::-1]\n",
    "    words = [embeddings.words[np.where((embeddings.vectors == tuple(X_unique[i,:])).all(axis=1))[0][0]] \n",
    "             for i in list(top_a_idx)]\n",
    "    top_words_topics.append(' '.join(words) + '\\n')\n",
    "    print('topic %i :' %m, words)"
   ]
  },
  {
   "cell_type": "code",
   "execution_count": 58,
   "metadata": {},
   "outputs": [],
   "source": [
    "f = open(\"STTM-master/NDIGOresults/NDIGO.topWords\", \"w\") # this can be used directly with the topic coherence score function in STTP\n",
    "f.writelines(top_words_topics)\n",
    "f.close()"
   ]
  },
  {
   "cell_type": "code",
   "execution_count": null,
   "metadata": {},
   "outputs": [],
   "source": []
  }
 ],
 "metadata": {
  "kernelspec": {
   "display_name": "Python 3",
   "language": "python",
   "name": "python3"
  },
  "language_info": {
   "codemirror_mode": {
    "name": "ipython",
    "version": 3
   },
   "file_extension": ".py",
   "mimetype": "text/x-python",
   "name": "python",
   "nbconvert_exporter": "python",
   "pygments_lexer": "ipython3",
   "version": "3.7.1"
  }
 },
 "nbformat": 4,
 "nbformat_minor": 2
}
